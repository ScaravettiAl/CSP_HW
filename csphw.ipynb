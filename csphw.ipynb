{
 "cells": [
  {
   "cell_type": "code",
   "execution_count": 1,
   "metadata": {},
   "outputs": [
    {
     "name": "stdout",
     "output_type": "stream",
     "text": [
      "Punti:  [[21 15]\n",
      " [ 9  9]\n",
      " [28 24]\n",
      " [29  0]]\n",
      "Neighbors: {0: [2, 1], 1: [0, 3], 2: [0, 3], 3: [2, 1]}\n"
     ]
    },
    {
     "data": {
      "image/png": "[encoded data removed]",
      "text/plain": [
       "<Figure size 640x480 with 1 Axes>"
      ]
     },
     "metadata": {},
     "output_type": "display_data"
    }
   ],
   "source": [
    "import numpy as np\n",
    "import matplotlib.pyplot as plt\n",
    "from scipy.spatial.distance import cdist\n",
    "import networkx as nx\n",
    "\n",
    "def intersect(segment1, segment2):\n",
    "    def ccw(A, B, C):\n",
    "        return (C[1] - A[1]) * (B[0] - A[0]) > (B[1] - A[1]) * (C[0] - A[0])\n",
    "\n",
    "    def do_segments_intersect(A, B, C, D):\n",
    "        return ccw(A, C, D) != ccw(B, C, D) and ccw(A, B, C) != ccw(A, B, D)\n",
    "\n",
    "    A, B = segment1\n",
    "    C, D = segment2\n",
    "\n",
    "    return do_segments_intersect(A, B, C, D)\n",
    "\n",
    "# Number of points\n",
    "n = 4\n",
    "points = np.random.randint(0, 30, size=(n, 2))\n",
    "connections = []\n",
    "print(\"Punti: \", points)\n",
    "neighbors = {i: [] for i in range(n)}\n",
    "regions = {i: set([i]) for i in range(n)}\n",
    "\n",
    "for c in range(0, n * (n - 1) // 2):\n",
    "    i = np.random.choice(n-1)\n",
    "    distances = cdist([points[i]], points, metric='euclidean')\n",
    "    distances[0, i] = np.inf\n",
    "    min_ind = np.argmin(distances[0])\n",
    "\n",
    "    new_connection = (i, min_ind)\n",
    "\n",
    "    if i != min_ind:\n",
    "        attempts = 0\n",
    "        while (i, min_ind) in connections or (min_ind, i) in connections:\n",
    "            distances[0, min_ind] = np.inf\n",
    "            min_ind = np.argmin(distances[0])\n",
    "            if min(distances[0]) == np.inf or attempts >= n:\n",
    "                break\n",
    "\n",
    "            new_connection = (i, min_ind)\n",
    "            attempts += 1\n",
    "\n",
    "        if i != min_ind:    \n",
    "            if (i, min_ind) not in connections and (min_ind, i) not in connections:\n",
    "                if all(not intersect((points[new_connection[0]], points[new_connection[1]]), (points[existing_connection[0]], points[existing_connection[1]])) for existing_connection in connections):\n",
    "                    connections.append((i, min_ind))\n",
    "                    neighbors[i].append(min_ind)\n",
    "                    neighbors[min_ind].append(i)\n",
    "\n",
    "# Graph visualization\n",
    "G = nx.Graph()\n",
    "G.add_nodes_from(range(n))\n",
    "G.add_edges_from(connections)\n",
    "\n",
    "# print the neighbors\n",
    "print(\"Neighbors:\", neighbors)\n",
    "\n",
    "pos = {i: points[i] for i in range(n)}\n",
    "nx.draw(G, pos, with_labels=True, font_weight='bold', node_size=700, node_color='skyblue', font_color='black', edgelist=connections)\n",
    "plt.show()"
   ]
  },
  {
   "cell_type": "code",
   "execution_count": 3,
   "metadata": {},
   "outputs": [],
   "source": [
    "import timeit"
   ]
  },
  {
   "cell_type": "code",
   "execution_count": 2,
   "metadata": {},
   "outputs": [
    {
     "ename": "NameError",
     "evalue": "name 'MapColoringCSP' is not defined",
     "output_type": "error",
     "traceback": [
      "\u001b[0;31m---------------------------------------------------------------------------\u001b[0m",
      "\u001b[0;31mNameError\u001b[0m                                 Traceback (most recent call last)",
      "\u001b[1;32mUntitled-1.ipynb Cell 2\u001b[0m line \u001b[0;36m3\n\u001b[1;32m      <a href='vscode-notebook-cell:Untitled-1.ipynb?jupyter-notebook#W1sdW50aXRsZWQ%3D?line=0'>1</a>\u001b[0m \u001b[39m###     K=3\u001b[39;00m\n\u001b[1;32m      <a href='vscode-notebook-cell:Untitled-1.ipynb?jupyter-notebook#W1sdW50aXRsZWQ%3D?line=1'>2</a>\u001b[0m colors\u001b[39m=\u001b[39m[\u001b[39m'\u001b[39m\u001b[39mR\u001b[39m\u001b[39m'\u001b[39m, \u001b[39m'\u001b[39m\u001b[39mG\u001b[39m\u001b[39m'\u001b[39m, \u001b[39m'\u001b[39m\u001b[39mB\u001b[39m\u001b[39m'\u001b[39m]\n\u001b[0;32m----> <a href='vscode-notebook-cell:Untitled-1.ipynb?jupyter-notebook#W1sdW50aXRsZWQ%3D?line=2'>3</a>\u001b[0m map_coloring_problem \u001b[39m=\u001b[39m MapColoringCSP(colors, neighbors)\n",
      "\u001b[0;31mNameError\u001b[0m: name 'MapColoringCSP' is not defined"
     ]
    }
   ],
   "source": [
    "###     K=3\n",
    "colors=['R', 'G', 'B']\n",
    "map_coloring_problem = MapColoringCSP(colors, neighbors)"
   ]
  },
  {
   "cell_type": "code",
   "execution_count": null,
   "metadata": {},
   "outputs": [],
   "source": [
    "#   min-conflicts\n",
    "def min_conf():\n",
    "    solution = min_conflicts(map_coloring_problem)\n",
    "    print(solution)\n",
    "\n",
    "elapsed_time=timeit.timeit(min_conf, number=1)\n",
    "print(f\"Tempo di esecuzione min_conflicts: {elapsed_time} secondi\")\n",
    "\n",
    "#   backtracking\n",
    "def backtr():\n",
    "    solution = backtracking_search(map_coloring_problem)\n",
    "    print(solution)\n",
    "\n",
    "elapsed_time=timeit.timeit(backtr, number=1)\n",
    "print(f\"Tempo di esecuzione backtracking: {elapsed_time} secondi\")\n",
    "\n",
    "#   backtracking with forward checking\n",
    "def backtr_fwrc():\n",
    "    solution = backtracking_search(map_coloring_problem, inference=forward_checking)\n",
    "    print(solution)\n",
    "\n",
    "elapsed_time=timeit.timeit(backtr, number=1)\n",
    "print(f\"Tempo di esecuzione backtracking with forward checking: {elapsed_time} secondi\")\n",
    "\n",
    "#   backtracking with arc consistency\n",
    "def backtr_fwrc():\n",
    "    solution = backtracking_search(map_coloring_problem, inference=mac)\n",
    "    print(solution)\n",
    "\n",
    "elapsed_time=timeit.timeit(backtr, number=1)\n",
    "print(f\"Tempo di esecuzione backtracking with arc consistency: {elapsed_time} secondi\")"
   ]
  },
  {
   "cell_type": "code",
   "execution_count": null,
   "metadata": {},
   "outputs": [],
   "source": [
    "###     K=4\n",
    "colors=['R', 'G', 'B', 'Y']\n",
    "map_coloring_problem = MapColoringCSP(colors, neighbors)"
   ]
  },
  {
   "cell_type": "code",
   "execution_count": null,
   "metadata": {},
   "outputs": [],
   "source": [
    "#   min-conflicts\n",
    "def min_conf():\n",
    "    solution = min_conflicts(map_coloring_problem)\n",
    "    print(solution)\n",
    "\n",
    "elapsed_time=timeit.timeit(min_conf, number=1)\n",
    "print(f\"Tempo di esecuzione min_conflicts: {elapsed_time} secondi\")\n",
    "\n",
    "#   backtracking\n",
    "def backtr():\n",
    "    solution = backtracking_search(map_coloring_problem)\n",
    "    print(solution)\n",
    "\n",
    "elapsed_time=timeit.timeit(backtr, number=1)\n",
    "print(f\"Tempo di esecuzione backtracking: {elapsed_time} secondi\")\n",
    "\n",
    "#   backtracking with forward checking\n",
    "def backtr_fwrc():\n",
    "    solution = backtracking_search(map_coloring_problem, inference=forward_checking)\n",
    "    print(solution)\n",
    "\n",
    "elapsed_time=timeit.timeit(backtr, number=1)\n",
    "print(f\"Tempo di esecuzione backtracking with forward checking: {elapsed_time} secondi\")\n",
    "\n",
    "#   backtracking with arc consistency\n",
    "def backtr_fwrc():\n",
    "    solution = backtracking_search(map_coloring_problem, inference=mac)\n",
    "    print(solution)\n",
    "\n",
    "elapsed_time=timeit.timeit(backtr, number=1)\n",
    "print(f\"Tempo di esecuzione backtracking with arc consistency: {elapsed_time} secondi\")"
   ]
  }
 ],
 "metadata": {
  "kernelspec": {
   "display_name": "venv",
   "language": "python",
   "name": "python3"
  },
  "language_info": {
   "codemirror_mode": {
    "name": "ipython",
    "version": 3
   },
   "file_extension": ".py",
   "mimetype": "text/x-python",
   "name": "python",
   "nbconvert_exporter": "python",
   "pygments_lexer": "ipython3",
   "version": "3.8.10"
  }
 },
 "nbformat": 4,
 "nbformat_minor": 2
}
